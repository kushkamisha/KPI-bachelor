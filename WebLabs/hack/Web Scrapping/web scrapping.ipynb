{
 "cells": [
  {
   "cell_type": "code",
   "execution_count": 9,
   "metadata": {},
   "outputs": [
    {
     "name": "stdout",
     "output_type": "stream",
     "text": [
      "./Web-Tech-Client-Labs.pdf\n",
      "./Web-Tech-Server-Labs.pdf\n",
      "./Web-Tech-Graphics-Lab.pdf\n",
      "./Web-Tech-Crack-n-JQuery-Lab.pdf\n",
      "./lecture1-zag-pryntsypy-web-rozrobky-osnovy-php.ppt\n",
      "./lecture2-osnovy-JavaScript.ppt\n",
      "./lecture3-AJAX.ppt\n",
      "./lecture4-zapyty-klient-server.ppt\n",
      "./lecture5-mysql.ppt\n",
      "./lecture6-sesii.ppt\n",
      "./lecture7-cache.ppt\n",
      "./JS-jquery.zip\n",
      "./PHP-detailed.zip\n",
      "./AJAX-suggestion.pdf\n",
      "./Fridl_Dzh_Regulyarnye_vyrazhenia_3-e_izdanie_20.pdf\n",
      "./art-of-font.zip\n"
     ]
    }
   ],
   "source": [
    "from bs4 import BeautifulSoup\n",
    "\n",
    "import requests\n",
    "\n",
    "url = \"http://vstup.info/web\"\n",
    "\n",
    "r  = requests.get(url)\n",
    "\n",
    "data = r.text\n",
    "\n",
    "soup = BeautifulSoup(data, \"html5lib\")\n",
    "\n",
    "for link in soup.find_all('a'):\n",
    "    print(link.get('href'))"
   ]
  },
  {
   "cell_type": "code",
   "execution_count": null,
   "metadata": {},
   "outputs": [],
   "source": []
  }
 ],
 "metadata": {
  "kernelspec": {
   "display_name": "Python 3",
   "language": "python",
   "name": "python3"
  },
  "language_info": {
   "codemirror_mode": {
    "name": "ipython",
    "version": 3
   },
   "file_extension": ".py",
   "mimetype": "text/x-python",
   "name": "python",
   "nbconvert_exporter": "python",
   "pygments_lexer": "ipython3",
   "version": "3.6.3"
  }
 },
 "nbformat": 4,
 "nbformat_minor": 2
}
